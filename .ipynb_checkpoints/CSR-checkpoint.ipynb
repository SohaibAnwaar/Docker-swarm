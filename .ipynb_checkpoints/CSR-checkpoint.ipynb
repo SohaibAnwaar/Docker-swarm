{
 "cells": [
  {
   "cell_type": "markdown",
   "metadata": {},
   "source": [
    "# Customer Sales Representative\n",
    "    Hey I am a customer sales representative. My only work here is to entertain our beloved clients and in results I get a pay raise. (Party) "
   ]
  },
  {
   "cell_type": "code",
   "execution_count": 3,
   "metadata": {},
   "outputs": [],
   "source": [
    "from pymongo import MongoClient\n",
    "import pymongo\n",
    "\n",
    "\n",
    "connectionString = \"mongodb://192.168.18.4:27017,192.168.18.4:27018,192.168.18.4:27019/magic_shop?replicaSet=mongodb-replicaset\";\n",
    "client           = MongoClient(connectionString)\n",
    "db               = client.magic_shop        # test is my database\n",
    "col              = db.req                   # Here spam is my collection"
   ]
  },
  {
   "cell_type": "markdown",
   "metadata": {},
   "source": [
    "# Listening to the Insert Stream"
   ]
  },
  {
   "cell_type": "code",
   "execution_count": 19,
   "metadata": {},
   "outputs": [
    {
     "ename": "SyntaxError",
     "evalue": "invalid syntax (<ipython-input-19-c8f08082fbc3>, line 29)",
     "output_type": "error",
     "traceback": [
      "\u001b[0;36m  File \u001b[0;32m\"<ipython-input-19-c8f08082fbc3>\"\u001b[0;36m, line \u001b[0;32m29\u001b[0m\n\u001b[0;31m    myquery    = { \"request_id\":  }\u001b[0m\n\u001b[0m                                  ^\u001b[0m\n\u001b[0;31mSyntaxError\u001b[0m\u001b[0;31m:\u001b[0m invalid syntax\n"
     ]
    }
   ],
   "source": [
    "import socket\n",
    "machine_name = socket.gethostname()\n",
    "from datetime import datetime\n",
    "\n",
    "\n",
    "def processing_request(request):\n",
    "    '''\n",
    "    Description:\n",
    "        Get the string, takes its length and run a loop 10 times of string length and set the \n",
    "        response to processed.\n",
    "        \n",
    "    Input:\n",
    "        request  (str) : Random String\n",
    "        \n",
    "    Output:\n",
    "        Set value back to the mongo db\n",
    "            response: Processed\n",
    "    '''\n",
    "    for i in range(0,len(request)*10):\n",
    "        pass\n",
    "    \n",
    "    \n",
    "\n",
    "try:\n",
    "    with db.req.watch([{'$match': {'operationType': 'insert'}}]) as stream:\n",
    "        for insert_change in stream:\n",
    "            \n",
    "            request_id = values['fullDocument']['request_id']\n",
    "            myquery    = { \"request_id\": request_id }\n",
    "            newvalues  = { \"$set\": { \"CSR_NAME\": machine_name, \"response\": \"Processing\", \"processing_time\":datetime.today()} }\n",
    "            request    = values['fullDocument']['request']\n",
    "            \n",
    "            # CSR Responding to the client\n",
    "            col.update_one(myquery, newvalues)\n",
    "            \n",
    "            print(f\"Processing {request_id}\")\n",
    "            # Now Processing Request\n",
    "            processing_request(request)\n",
    "            \n",
    "            # Updating that work is done\n",
    "            myquery   = { \"request_id\": request_id }\n",
    "            newvalues = { \"$set\": {\"response\": \"Request Processed Have a nice Day sir!\", 'response_time':datetime.today()} }\n",
    "            # CSR Responding to the client\n",
    "            col.update_one(myquery, newvalues)\n",
    "            \n",
    "except pymongo.errors.PyMongoError:\n",
    "    # The ChangeStream encountered an unrecoverable error or the\n",
    "    # resume attempt failed to recreate the cursor.\n",
    "    logging.error('...')"
   ]
  },
  {
   "cell_type": "code",
   "execution_count": null,
   "metadata": {},
   "outputs": [],
   "source": []
  }
 ],
 "metadata": {
  "kernelspec": {
   "display_name": "mongodb",
   "language": "python",
   "name": "mongodb"
  },
  "language_info": {
   "codemirror_mode": {
    "name": "ipython",
    "version": 3
   },
   "file_extension": ".py",
   "mimetype": "text/x-python",
   "name": "python",
   "nbconvert_exporter": "python",
   "pygments_lexer": "ipython3",
   "version": "3.6.13"
  }
 },
 "nbformat": 4,
 "nbformat_minor": 4
}
