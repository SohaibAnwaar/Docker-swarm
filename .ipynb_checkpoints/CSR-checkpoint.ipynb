{
 "cells": [
  {
   "cell_type": "markdown",
   "metadata": {},
   "source": [
    "# Customer Sales Representative\n",
    "    Hey I am a customer sales representative. My only work here is to entertain our beloved clients and in results I get a pay raise. (Party) "
   ]
  },
  {
   "cell_type": "code",
   "execution_count": 1,
   "metadata": {},
   "outputs": [],
   "source": [
    "from pymongo import MongoClient\n",
    "import pymongo\n",
    "\n",
    "\n",
    "connectionString = \"mongodb://192.168.18.14:27017,192.168.18.14:27018,192.168.18.14:27019/magic_shop?replicaSet=mongodb-replicaset\";\n",
    "client           = MongoClient(connectionString)\n",
    "db               = client.magic_shop        # test is my database\n",
    "col              = db.req                   # Here spam is my collection"
   ]
  },
  {
   "cell_type": "markdown",
   "metadata": {},
   "source": [
    "# Listening to the Insert Stream"
   ]
  },
  {
   "cell_type": "code",
   "execution_count": null,
   "metadata": {},
   "outputs": [],
   "source": [
    "import socket\n",
    "machine_name = socket.gethostname()\n",
    "from datetime import datetime\n",
    "import time\n",
    "\n",
    "def processing_request(request):\n",
    "    '''\n",
    "    Description:\n",
    "        Get the string, takes its length and run a loop 10 times of string length and set the \n",
    "        response to processed.\n",
    "        \n",
    "    Input:\n",
    "        request  (str) : Random String\n",
    "        \n",
    "    Output:\n",
    "        Set value back to the mongo db\n",
    "            response: Processed\n",
    "    '''\n",
    "    for i in range(0,len(request)*10):\n",
    "        pass\n",
    "    \n",
    "    \n",
    "\n",
    "try:\n",
    "    with db.req.watch([{'$match': {'operationType': 'insert'}}]) as stream:\n",
    "        print(\"Catching Insert Triggers\")\n",
    "        for values in stream:\n",
    "            request_id = values['fullDocument']['request_id']\n",
    "            request    = values['fullDocument']['request']\n",
    "            myquery    = { \"request_id\": request_id }\n",
    "            \n",
    "            # Checking if not processed by other replica (Blocking System)\n",
    "            if len(list(col.find({ 'request_id': request_id, 'CSR_NAME' : { \"$exists\": False}}))):\n",
    "                newvalues  = { \"$set\": { \"CSR_NAME\": machine_name, \"response\": \"Processing\", \"processing_time\":datetime.today()} }\n",
    "\n",
    "                # CSR Responding to the client\n",
    "                col.update_one(myquery, newvalues)\n",
    "                print(request_id)\n",
    "                print(f\"Processing {request_id}\")\n",
    "                # Now Processing Request\n",
    "                processing_request(request)\n",
    "                # Updating that work is done\n",
    "\n",
    "                myquery   = { \"request_id\": request_id }\n",
    "                newvalues = { \"$set\": {\"response\": \"Request Processed Have a nice Day sir!\", 'response_time':datetime.today()} }\n",
    "                # CSR Responding to the client\n",
    "                col.update_one(myquery, newvalues)\n",
    "            \n",
    "except pymongo.errors.PyMongoError:\n",
    "    # The ChangeStream encountered an unrecoverable error or the\n",
    "    # resume attempt failed to recreate the cursor.\n",
    "    logging.error('...')"
   ]
  },
  {
   "cell_type": "code",
   "execution_count": null,
   "metadata": {},
   "outputs": [],
   "source": []
  },
  {
   "cell_type": "code",
   "execution_count": null,
   "metadata": {},
   "outputs": [],
   "source": []
  }
 ],
 "metadata": {
  "kernelspec": {
   "display_name": "mongodb",
   "language": "python",
   "name": "mongodb"
  },
  "language_info": {
   "codemirror_mode": {
    "name": "ipython",
    "version": 3
   },
   "file_extension": ".py",
   "mimetype": "text/x-python",
   "name": "python",
   "nbconvert_exporter": "python",
   "pygments_lexer": "ipython3",
   "version": "3.6.13"
  }
 },
 "nbformat": 4,
 "nbformat_minor": 4
}
