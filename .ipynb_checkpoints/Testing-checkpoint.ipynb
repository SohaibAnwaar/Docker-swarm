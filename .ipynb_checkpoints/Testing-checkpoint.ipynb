{
 "cells": [
  {
   "cell_type": "markdown",
   "metadata": {},
   "source": [
    "## Mongo Connection\n",
    "\n",
    "Mongo connection string consists of ip and port of the server on which your mongo is running.\n",
    "\n",
    "My mongo is running on a docker container on server ->\n",
    "   * **ip:   192.168.18.4** \n",
    "   * **port:  27017**\n",
    "\n",
    "and model requests is the name of my collection inside a db"
   ]
  },
  {
   "cell_type": "code",
   "execution_count": 1,
   "metadata": {},
   "outputs": [],
   "source": [
    "from pymongo import MongoClient\n",
    "\n",
    "\n",
    "connectionString = \"mongodb://192.168.18.4:27017/model_requests\";\n",
    "client = MongoClient(connectionString)"
   ]
  },
  {
   "cell_type": "markdown",
   "metadata": {},
   "source": [
    "# Check Mongo\n",
    "Check if mongo db is working or not with some insertions and selections."
   ]
  },
  {
   "cell_type": "markdown",
   "metadata": {},
   "source": [
    "## Insert"
   ]
  },
  {
   "cell_type": "code",
   "execution_count": 8,
   "metadata": {},
   "outputs": [],
   "source": [
    "requests = [\n",
    " \"I need a beer\",\n",
    " \"Hey! How are you Sohaib! I need 2 fresh lime\",\n",
    " \"Boy! Give me a pizza\",\n",
    " \"Hey My name is Nina! from tekken 7 I need you phone number!\"\n",
    " \"Hey I need Invoker's magic\",\n",
    " \"I want the owner of the magic shop! He just give ciggrestts to a monkey!\",\n",
    " \"Hey! Wanna go on a date!\"\n",
    " \"I need pudge arcana hook!\"\n",
    "]\n"
   ]
  },
  {
   "cell_type": "code",
   "execution_count": 9,
   "metadata": {},
   "outputs": [
    {
     "name": "stdout",
     "output_type": "stream",
     "text": [
      "Request ID : 4984\n"
     ]
    }
   ],
   "source": [
    "from pymongo import MongoClient\n",
    "from PIL import Image\n",
    "import io, random\n",
    "import matplotlib.pyplot as plt\n",
    "\n",
    "\n",
    "db        = client.model_requests        # test is my database\n",
    "col       = db.req                       # Here spam is my collection\n",
    "random_id = int(random.random()*100000)\n",
    "image     = {\n",
    "            'request_id': random_id,\n",
    "            'request': random.choice(requests)\n",
    "            }\n",
    "\n",
    "image_id = col.insert_one(image).inserted_id\n",
    "print(f\"Request ID : {random_id}\")"
   ]
  },
  {
   "cell_type": "markdown",
   "metadata": {},
   "source": [
    "# Getting All the requests"
   ]
  },
  {
   "cell_type": "code",
   "execution_count": 10,
   "metadata": {},
   "outputs": [
    {
     "name": "stdout",
     "output_type": "stream",
     "text": [
      "[{'_id': ObjectId('60e00d6c027dc0ea3e882e95'), 'request_id': 66426, 'request': 'I need a bear please!'}, {'_id': ObjectId('60e00f0b027dc0ea3e882e96'), 'request_id': 4984, 'request': 'Hey! How are you Sohaib! I need 2 fresh lime'}]\n"
     ]
    }
   ],
   "source": [
    "\n",
    "db = client.model_requests #test is my database\n",
    "col = db.req #Here spam is my collection\n",
    "array = [i for i in col.find()]\n",
    "print(array)"
   ]
  },
  {
   "cell_type": "code",
   "execution_count": null,
   "metadata": {},
   "outputs": [],
   "source": []
  }
 ],
 "metadata": {
  "kernelspec": {
   "display_name": "mongodb",
   "language": "python",
   "name": "mongodb"
  },
  "language_info": {
   "codemirror_mode": {
    "name": "ipython",
    "version": 3
   },
   "file_extension": ".py",
   "mimetype": "text/x-python",
   "name": "python",
   "nbconvert_exporter": "python",
   "pygments_lexer": "ipython3",
   "version": "3.6.13"
  }
 },
 "nbformat": 4,
 "nbformat_minor": 5
}
