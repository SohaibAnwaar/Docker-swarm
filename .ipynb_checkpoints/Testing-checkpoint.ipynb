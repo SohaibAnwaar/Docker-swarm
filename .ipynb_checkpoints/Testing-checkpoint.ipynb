{
 "cells": [
  {
   "cell_type": "markdown",
   "metadata": {},
   "source": [
    "## Mongo Connection\n",
    "\n",
    "Mongo connection string consists of ip and port of the server on which your mongo is running.\n",
    "\n",
    "My mongo is running on a docker container on server ->\n",
    "   * **ip:   192.168.18.4** \n",
    "   * **port:  27017**\n",
    "\n",
    "and model requests is the name of my collection inside a db"
   ]
  },
  {
   "cell_type": "code",
   "execution_count": 21,
   "metadata": {},
   "outputs": [],
   "source": [
    "from pymongo import MongoClient\n",
    "import os\n",
    "\n",
    "\n",
    "connectionString = \"mongodb://192.168.18.4:27017/magic_shop\";\n",
    "client = MongoClient(connectionString)\n",
    "os.environ['MONGO_URL'] = connectionString"
   ]
  },
  {
   "cell_type": "markdown",
   "metadata": {},
   "source": [
    "# Check Mongo\n",
    "Check if mongo db is working or not with some insertions and selections."
   ]
  },
  {
   "cell_type": "markdown",
   "metadata": {},
   "source": [
    "## Insert"
   ]
  },
  {
   "cell_type": "code",
   "execution_count": 22,
   "metadata": {},
   "outputs": [],
   "source": [
    "requests = [\n",
    " \"I need a beer\",\n",
    " \"Hey! How are you Sohaib! I need 2 fresh lime\",\n",
    " \"Boy! Give me a pizza\",\n",
    " \"Hey My name is Nina! from tekken 7 I need you phone number!\",\n",
    " \"Hey I need Invoker's magic\",\n",
    " \"I want the owner of the magic shop! He just give ciggrestts to a monkey!\",\n",
    " \"Hey! Wanna go on a date!\",\n",
    " \"I need pudge arcana hook!\"\n",
    "]\n"
   ]
  },
  {
   "cell_type": "code",
   "execution_count": 35,
   "metadata": {},
   "outputs": [
    {
     "name": "stdout",
     "output_type": "stream",
     "text": [
      "Request Done 5000\n"
     ]
    }
   ],
   "source": [
    "from pymongo import MongoClient\n",
    "from PIL import Image\n",
    "import io, random\n",
    "import matplotlib.pyplot as plt\n",
    "from datetime import datetime, timedelta\n",
    "\n",
    "\n",
    "\n",
    "db        = client.magic_shop            # test is my database\n",
    "col       = db.req                       # Here spam is my collection\n",
    "brust     = 5000\n",
    "count     = 0 \n",
    "\n",
    "for i in range(0, brust):\n",
    "    random_id = int(random.random()*100000)\n",
    "    image= {\n",
    "                'request_id': i,\n",
    "                'request': random.choice(requests),\n",
    "                'request_time':datetime.today()\n",
    "                }\n",
    "\n",
    "    image_id = col.insert_one(image).inserted_id\n",
    "    count+=1\n",
    "    \n",
    "    \n",
    "print(f\"Request Done {count}\")"
   ]
  },
  {
   "cell_type": "markdown",
   "metadata": {},
   "source": [
    "### Some DataScience Stuff\n",
    "As I am a data-scientist so I love to dig down the past, apply some analytical stuff, think like voker and than give recommendations.\n",
    "\n",
    "\n",
    "So My plan is to \n",
    "1. get the times and see how much time do mongo take to process requests from start to end."
   ]
  },
  {
   "cell_type": "code",
   "execution_count": 51,
   "metadata": {},
   "outputs": [
    {
     "name": "stdout",
     "output_type": "stream",
     "text": [
      "5000\n",
      "Request Processed 5000\n",
      "Average Whole Request Processing Time this artitecture: 11.7310244\n",
      "Average Request Processed Time By CSR: 0.0019362\n",
      "Request Processed by Counter({'114a6adfc464': 1303, 'fcbf48d35c1a': 1261, '1b892ac9ef28': 1227, 'd15d81a7889a': 1209})\n"
     ]
    }
   ],
   "source": [
    "from collections import Counter\n",
    "def millis_interval(end, start):\n",
    "    \"\"\"start and end are datetime instances\"\"\"\n",
    "    diff = end - start\n",
    "    millis = diff.days * 24 * 60 * 60 * 1000\n",
    "    millis += diff.seconds * 1000\n",
    "    millis += diff.microseconds / 1000\n",
    "    return millis\n",
    "\n",
    "\n",
    "processing_time = []\n",
    "task_done_time  = []\n",
    "server_name     = []\n",
    "not_processed   = 0\n",
    "\n",
    "array = [i for i in col.find()]\n",
    "print(len(array))\n",
    "for i in array:\n",
    "    \n",
    "    try:\n",
    "        request_time    = i['request_time']\n",
    "        delivery_time   = i['processing_time']\n",
    "        response_time   = i['response_time']\n",
    "        CSR_NAME        = i['CSR_NAME']\n",
    "\n",
    "        # Adding 5 hours because my docker and host time is not synced with each other\n",
    "        processing_time.append(millis_interval(response_time + timedelta(hours=5) , request_time ))\n",
    "        task_done_time.append(millis_interval(response_time  , delivery_time))\n",
    "        server_name.append(CSR_NAME)\n",
    "    except Exception as e:\n",
    "        not_processed += 1\n",
    "        \n",
    "print(f\"Request Processed {brust - not_processed}\")\n",
    "print(f\"Average Whole Request Processing Time this artitecture: {(sum(processing_time)/len(processing_time))/1000}\")\n",
    "print(f\"Average Request Processed Time By CSR: {(sum(task_done_time)/len(task_done_time))/1000}\")\n",
    "print(f\"Request Processed by {Counter(server_name)}\")\n"
   ]
  },
  {
   "cell_type": "markdown",
   "metadata": {},
   "source": [
    "# Dropped Requests\n",
    "\n",
    "I dont know why these requests are dropped by the artitecture thats strange. let go to stackoverflow and "
   ]
  },
  {
   "cell_type": "code",
   "execution_count": 304,
   "metadata": {},
   "outputs": [
    {
     "name": "stdout",
     "output_type": "stream",
     "text": [
      "Total Missed Requests by the stream 3984\n"
     ]
    }
   ],
   "source": [
    "print(f\"Total Missed Requests by the stream {( not_processed)}\")"
   ]
  },
  {
   "cell_type": "markdown",
   "metadata": {},
   "source": [
    "# Stats\n",
    "\n",
    "\n",
    "**Architecture Stats**\n",
    "    \n",
    "    \n",
    "| No of requests  | Time Taken/sec | Processed Requests | missed requests | docker swarm replicas |\n",
    "|-|-|-|-|-|\n",
    "| 1000 | 4.8 | 1000 | 0 | 1 |\n",
    "| 3000 | 21 | 3000 | 0 | 1 |\n",
    "| 5000 | 39 | 5000 | 0 | 1 |\n",
    "| 1000 | 5.8 | 1000 | 0 | 2 |\n",
    "| 3000 | 24 | 3000 | 0 | 2 |\n",
    "| 5000 | 47 | 5000 | 0 | 2 |\n",
    "| 1000 | 7 | 1000 | 0 | 5 |\n",
    "| 3000 | 29 | 3000 | 0 | 5 |\n",
    "| 5000 | 67 | 5000 | 0 | 5 |\n",
    "    "
   ]
  },
  {
   "cell_type": "markdown",
   "metadata": {},
   "source": [
    "# Delete All"
   ]
  },
  {
   "cell_type": "code",
   "execution_count": 33,
   "metadata": {},
   "outputs": [],
   "source": [
    "for i in col.find():\n",
    "    col.delete_one({\"request_id\":i[\"request_id\"]})"
   ]
  },
  {
   "cell_type": "code",
   "execution_count": 23,
   "metadata": {},
   "outputs": [],
   "source": []
  },
  {
   "cell_type": "code",
   "execution_count": null,
   "metadata": {},
   "outputs": [],
   "source": []
  },
  {
   "cell_type": "code",
   "execution_count": null,
   "metadata": {},
   "outputs": [],
   "source": []
  }
 ],
 "metadata": {
  "kernelspec": {
   "display_name": "mongodb",
   "language": "python",
   "name": "mongodb"
  },
  "language_info": {
   "codemirror_mode": {
    "name": "ipython",
    "version": 3
   },
   "file_extension": ".py",
   "mimetype": "text/x-python",
   "name": "python",
   "nbconvert_exporter": "python",
   "pygments_lexer": "ipython3",
   "version": "3.6.13"
  }
 },
 "nbformat": 4,
 "nbformat_minor": 5
}
