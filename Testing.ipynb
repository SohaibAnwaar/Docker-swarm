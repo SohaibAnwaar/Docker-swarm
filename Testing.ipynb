{
 "cells": [
  {
   "cell_type": "markdown",
   "metadata": {},
   "source": [
    "## Mongo Connection\n",
    "\n",
    "Mongo connection string consists of ip and port of the server on which your mongo is running.\n",
    "\n",
    "My mongo is running on a docker container on server ->\n",
    "   * **ip:   192.168.18.4** \n",
    "   * **port:  27017**\n",
    "\n",
    "and model requests is the name of my collection inside a db"
   ]
  },
  {
   "cell_type": "code",
   "execution_count": 12,
   "metadata": {},
   "outputs": [],
   "source": [
    "from pymongo import MongoClient\n",
    "\n",
    "\n",
    "connectionString = \"mongodb://192.168.18.14:27017/magic_shop\";\n",
    "client = MongoClient(connectionString)"
   ]
  },
  {
   "cell_type": "code",
   "execution_count": null,
   "metadata": {},
   "outputs": [],
   "source": []
  },
  {
   "cell_type": "markdown",
   "metadata": {},
   "source": [
    "# Check Mongo\n",
    "Check if mongo db is working or not with some insertions and selections."
   ]
  },
  {
   "cell_type": "markdown",
   "metadata": {},
   "source": [
    "## Insert"
   ]
  },
  {
   "cell_type": "code",
   "execution_count": 13,
   "metadata": {},
   "outputs": [],
   "source": [
    "requests = [\n",
    " \"I need a beer\",\n",
    " \"Hey! How are you Sohaib! I need 2 fresh lime\",\n",
    " \"Boy! Give me a pizza\",\n",
    " \"Hey My name is Nina! from tekken 7 I need you phone number!\",\n",
    " \"Hey I need Invoker's magic\",\n",
    " \"I want the owner of the magic shop! He just give ciggrestts to a monkey!\",\n",
    " \"Hey! Wanna go on a date!\",\n",
    " \"I need pudge arcana hook!\"\n",
    "]\n"
   ]
  },
  {
   "cell_type": "code",
   "execution_count": 14,
   "metadata": {},
   "outputs": [
    {
     "name": "stdout",
     "output_type": "stream",
     "text": [
      "Request Done 5000\n"
     ]
    }
   ],
   "source": [
    "from pymongo import MongoClient\n",
    "from PIL import Image\n",
    "import io, random\n",
    "import matplotlib.pyplot as plt\n",
    "from datetime import datetime\n",
    "\n",
    "\n",
    "\n",
    "db        = client.magic_shop            # test is my database\n",
    "col       = db.req                       # Here spam is my collection\n",
    "brust     = 5000\n",
    "count     = 0 \n",
    "\n",
    "for i in range(0, brust):\n",
    "    random_id = int(random.random()*100000)\n",
    "    image= {\n",
    "                'request_id': random_id,\n",
    "                'request': random.choice(requests),\n",
    "                'request_time':datetime.today()\n",
    "                }\n",
    "\n",
    "    image_id = col.insert_one(image).inserted_id\n",
    "    count+=1\n",
    "    \n",
    "    \n",
    "print(f\"Request Done {count}\")"
   ]
  },
  {
   "cell_type": "markdown",
   "metadata": {},
   "source": [
    "# Getting Response for the request we processed"
   ]
  },
  {
   "cell_type": "code",
   "execution_count": null,
   "metadata": {},
   "outputs": [],
   "source": [
    "\n",
    "db = client.magic_shop #test is my database\n",
    "col = db.req #Here spam is my collection\n",
    "array = [i for i in col.find({ \"request_id\": random_id})]\n",
    "print(array)"
   ]
  },
  {
   "cell_type": "markdown",
   "metadata": {},
   "source": [
    "# Some DataScience Stuff\n",
    "As I am a data-scientist so I love to dig down the past, apply some analytical stuff, think like voker and than give recommendations.\n",
    "\n",
    "\n",
    "So My plan is to \n",
    "1. get the times and see how much time do mongo take to process requests from start to end."
   ]
  },
  {
   "cell_type": "code",
   "execution_count": null,
   "metadata": {},
   "outputs": [],
   "source": [
    "def millis_interval(end, start):\n",
    "    \"\"\"start and end are datetime instances\"\"\"\n",
    "    diff = end - start\n",
    "    millis = diff.days * 24 * 60 * 60 * 1000\n",
    "    millis += diff.seconds * 1000\n",
    "    millis += diff.microseconds / 1000\n",
    "    return millis\n",
    "\n",
    "\n",
    "processing_time = []\n",
    "task_done_time  = []\n",
    "not_processed   = 0\n",
    "\n",
    "array = [i for i in col.find()]\n",
    "print(len(array))\n",
    "for i in array:\n",
    "    \n",
    "    try:\n",
    "        request_time    = i['request_time']\n",
    "        delivery_time   = i['processing_time']\n",
    "        response_time   = i['response_time']\n",
    "\n",
    "\n",
    "        processing_time.append(millis_interval(response_time , request_time))\n",
    "        task_done_time.append(millis_interval(response_time , delivery_time))\n",
    "    except Exception as e:\n",
    "        not_processed += 1\n",
    "        \n",
    "print(f\"Request Processed {brust - not_processed}\")\n",
    "print(f\"Average Whole Request Processing Time this artitecture: {sum(processing_time)/len(processing_time)}\")\n",
    "print(f\"Average Request Processed Time By CSR: {sum(task_done_time)/len(task_done_time)}\")\n"
   ]
  },
  {
   "cell_type": "markdown",
   "metadata": {},
   "source": [
    "# Dropped Requests\n",
    "\n",
    "I dont know why these requests are dropped by the artitecture thats strange. let go to stackoverflow and "
   ]
  },
  {
   "cell_type": "code",
   "execution_count": null,
   "metadata": {},
   "outputs": [],
   "source": [
    "print(f\"Total Missed Requests by the stream {( not_processed)}\")"
   ]
  },
  {
   "cell_type": "markdown",
   "metadata": {},
   "source": [
    "# Stats\n",
    "\n",
    "\n",
    "**Architecture Stats**\n",
    "    \n",
    "    \n",
    "| No of requests  | Time Taken | Processed Requests | missed requests | docker swarm replicas |\n",
    "|-|-|-|-|-|\n",
    "| 1000 | 949.51 | 996 | 4 | 1 |\n",
    "| 3000 | 4387.24 | 2948 | 52 | 1 |\n",
    "| 5000 | 10051.78 | 4878 | 122 | 1 |\n",
    "    "
   ]
  },
  {
   "cell_type": "markdown",
   "metadata": {},
   "source": [
    "# Delete All"
   ]
  },
  {
   "cell_type": "code",
   "execution_count": null,
   "metadata": {},
   "outputs": [],
   "source": [
    "for i in col.find():\n",
    "    print(i['request_id'])\n",
    "    col.delete_one({\"request_id\":i[\"request_id\"]})"
   ]
  },
  {
   "cell_type": "code",
   "execution_count": null,
   "metadata": {},
   "outputs": [],
   "source": [
    "!conda env export > environment.yml"
   ]
  },
  {
   "cell_type": "code",
   "execution_count": null,
   "metadata": {},
   "outputs": [],
   "source": []
  }
 ],
 "metadata": {
  "kernelspec": {
   "display_name": "mongodb",
   "language": "python",
   "name": "mongodb"
  },
  "language_info": {
   "codemirror_mode": {
    "name": "ipython",
    "version": 3
   },
   "file_extension": ".py",
   "mimetype": "text/x-python",
   "name": "python",
   "nbconvert_exporter": "python",
   "pygments_lexer": "ipython3",
   "version": "3.6.13"
  }
 },
 "nbformat": 4,
 "nbformat_minor": 5
}
